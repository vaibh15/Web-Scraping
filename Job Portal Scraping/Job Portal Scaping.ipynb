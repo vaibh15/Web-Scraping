{
 "cells": [
  {
   "cell_type": "code",
   "execution_count": 2,
   "id": "8c71f560",
   "metadata": {},
   "outputs": [],
   "source": [
    "#import required libraries\n",
    "from selenium import webdriver\n",
    "from selenium.webdriver.common.by import By\n",
    "from selenium.webdriver.chrome.service import Service\n",
    "import pandas as pd\n",
    "import time\n",
    "from selenium.webdriver.chrome.options import Options"
   ]
  },
  {
   "cell_type": "code",
   "execution_count": 3,
   "id": "8e913ac9",
   "metadata": {},
   "outputs": [],
   "source": [
    "#Adding headless option to avoid browser opening again and again\n",
    "#options = Options()\n",
    "#options.headless = True\n",
    "#options.add_argument('window-size=1366x768')"
   ]
  },
  {
   "cell_type": "code",
   "execution_count": 4,
   "id": "f84df1b7",
   "metadata": {},
   "outputs": [],
   "source": [
    "target_website = 'https://in.indeed.com/'\n",
    "path=Service('C:/Users/krush/Downloads/chromedriver_win32/chromedriver.exe')\n",
    "#driver=webdriver.Chrome(service=path,options=options)\n",
    "driver=webdriver.Chrome(service=path)\n",
    "driver.get(target_website)\n",
    "driver.maximize_window()"
   ]
  },
  {
   "cell_type": "code",
   "execution_count": 5,
   "id": "6ab918e9",
   "metadata": {},
   "outputs": [],
   "source": [
    "#locate Search Box\n",
    "search_box = driver.find_element(By.XPATH,\"//div[@id='MosaicProviderRichSearchDaemon']\")\n",
    "input1 = search_box.find_element(By.XPATH,\".//input[@id='text-input-what']\")\n",
    "input2 = search_box.find_element(By.XPATH,\".//input[@id='text-input-where']\")\n",
    "submit_btn = search_box.find_element(By.XPATH,\".//button[@class='yosegi-InlineWhatWhere-primaryButton']\")"
   ]
  },
  {
   "cell_type": "code",
   "execution_count": 6,
   "id": "f21aed0e",
   "metadata": {},
   "outputs": [],
   "source": [
    "#pass user input here\n",
    "role = 'Data Analyst'\n",
    "input1.send_keys(role)\n",
    "input2.send_keys('Navi Mumbai')\n",
    "time.sleep(1)\n",
    "submit_btn.click()\n",
    "time.sleep(2)"
   ]
  },
  {
   "cell_type": "code",
   "execution_count": 7,
   "id": "6c3d655b",
   "metadata": {},
   "outputs": [],
   "source": [
    "job_location =[]\n",
    "company_name = []\n",
    "job_profile =[]\n",
    "salary =[]\n",
    "qualification =[]\n",
    "job_details_link = []\n",
    "company_rating =[]"
   ]
  },
  {
   "cell_type": "code",
   "execution_count": 8,
   "id": "85907c08",
   "metadata": {},
   "outputs": [],
   "source": [
    "last_page = 5 #mention pages\n",
    "current_page = 1\n",
    "\n",
    "while current_page < last_page:\n",
    "\n",
    "    left_panel = driver.find_element(By.XPATH,\"//div[@class='jobsearch-LeftPane']\")\n",
    "    single_job_snippet =  left_panel.find_elements(By.XPATH,\".//td[@class='resultContent']\")\n",
    "\n",
    "\n",
    "\n",
    "    for single_job in single_job_snippet:\n",
    "        job_location.append(single_job.find_element(By.XPATH,\".//div[@class='companyLocation']\").text)\n",
    "        job_profile.append(single_job.find_element(By.XPATH,\".//h2\").text)\n",
    "        company_name.append(single_job.find_element(By.XPATH,\".//span[@class='companyName']\").text)\n",
    "        try:\n",
    "            company_rating.append(single_job.find_element(By.XPATH,\".//a[contains(@class,'ratingLink')]/span\").text)\n",
    "        except:\n",
    "            company_rating.append(\"No Rating Found\")\n",
    "        job_details_link.append((single_job.find_element(By.XPATH,\".//h2/a\")).get_attribute('href'))\n",
    "\n",
    "        #click on job profile for more info\n",
    "        single_job.click()\n",
    "        time.sleep(2)\n",
    "\n",
    "        #fetch job details from right side\n",
    "        right_panel = driver.find_element(By.XPATH,\"//div[@class='jobsearch-RightPane']\")\n",
    "        try:\n",
    "            salary.append(right_panel.find_element(By.XPATH,\".//div[@id='salaryInfoAndJobType']/span\").text)\n",
    "        except:\n",
    "            salary.append('Not Mentioned')\n",
    "\n",
    "    try:\n",
    "        current_page = current_page + 1 \n",
    "        nxt_btn = driver.find_element(By.XPATH,'//a[contains(@data-testid,\"pagination-page-next\")]')\n",
    "        nxt_btn.click()   \n",
    "        \n",
    "    except:\n",
    "        pass\n",
    "    \n",
    "    \n",
    "driver.quit()"
   ]
  },
  {
   "cell_type": "code",
   "execution_count": 9,
   "id": "05037e70",
   "metadata": {
    "scrolled": false
   },
   "outputs": [],
   "source": [
    "df=pd.DataFrame({'Job Profile':job_profile,'Company Name':company_name,'Company Rating':company_rating,'Job Location':job_location,'Salary':salary,'Job Location':job_location,'Apply for This Job':job_details_link})\n",
    "df.to_excel('jobs.xlsx')\n"
   ]
  },
  {
   "cell_type": "code",
   "execution_count": null,
   "id": "d4bb5e15",
   "metadata": {},
   "outputs": [],
   "source": []
  },
  {
   "cell_type": "code",
   "execution_count": null,
   "id": "d701c766",
   "metadata": {},
   "outputs": [],
   "source": []
  },
  {
   "cell_type": "code",
   "execution_count": 5,
   "id": "2ed594af",
   "metadata": {},
   "outputs": [],
   "source": []
  },
  {
   "cell_type": "code",
   "execution_count": null,
   "id": "e936c223",
   "metadata": {},
   "outputs": [],
   "source": []
  }
 ],
 "metadata": {
  "kernelspec": {
   "display_name": "Python 3 (ipykernel)",
   "language": "python",
   "name": "python3"
  },
  "language_info": {
   "codemirror_mode": {
    "name": "ipython",
    "version": 3
   },
   "file_extension": ".py",
   "mimetype": "text/x-python",
   "name": "python",
   "nbconvert_exporter": "python",
   "pygments_lexer": "ipython3",
   "version": "3.9.12"
  }
 },
 "nbformat": 4,
 "nbformat_minor": 5
}
